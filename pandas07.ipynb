{
 "cells": [
  {
   "cell_type": "markdown",
   "id": "247d17aa-cf4b-484c-af40-2baa467820b1",
   "metadata": {},
   "source": [
    "# 깔끔한 데이터"
   ]
  },
  {
   "cell_type": "code",
   "execution_count": 1,
   "id": "c71ee272-7c71-48c6-8377-ffd8bde20238",
   "metadata": {},
   "outputs": [],
   "source": [
    "# melt 메서드\n",
    "#데이터프레임을 깔끔한 데이터로 정리하는데 유용\n",
    "# 지정한 열의 데이터를 모두 행으로 정리해줍니다. "
   ]
  },
  {
   "cell_type": "markdown",
   "id": "25d595d5-bb30-48b2-933c-647c6164e0bc",
   "metadata": {},
   "source": [
    "## 1개의 열만 고정하고 나머지 열을 행으로 바꾸기"
   ]
  },
  {
   "cell_type": "code",
   "execution_count": 5,
   "id": "f34a2be4-1e76-46bd-82cb-2d2bd10af399",
   "metadata": {},
   "outputs": [
    {
     "name": "stdout",
     "output_type": "stream",
     "text": [
      "                   religion  <$10k  $10-20k  $20-30k  $30-40k  $40-50k  \\\n",
      "0                  Agnostic     27       34       60       81       76   \n",
      "1                   Atheist     12       27       37       52       35   \n",
      "2                  Buddhist     27       21       30       34       33   \n",
      "3                  Catholic    418      617      732      670      638   \n",
      "4        Don’t know/refused     15       14       15       11       10   \n",
      "5          Evangelical Prot    575      869     1064      982      881   \n",
      "6                     Hindu      1        9        7        9       11   \n",
      "7   Historically Black Prot    228      244      236      238      197   \n",
      "8         Jehovah's Witness     20       27       24       24       21   \n",
      "9                    Jewish     19       19       25       25       30   \n",
      "10            Mainline Prot    289      495      619      655      651   \n",
      "11                   Mormon     29       40       48       51       56   \n",
      "12                   Muslim      6        7        9       10        9   \n",
      "13                 Orthodox     13       17       23       32       32   \n",
      "14          Other Christian      9        7       11       13       13   \n",
      "15             Other Faiths     20       33       40       46       49   \n",
      "16    Other World Religions      5        2        3        4        2   \n",
      "17             Unaffiliated    217      299      374      365      341   \n",
      "\n",
      "    $50-75k  $75-100k  $100-150k  >150k  Don't know/refused  \n",
      "0       137       122        109     84                  96  \n",
      "1        70        73         59     74                  76  \n",
      "2        58        62         39     53                  54  \n",
      "3      1116       949        792    633                1489  \n",
      "4        35        21         17     18                 116  \n",
      "5      1486       949        723    414                1529  \n",
      "6        34        47         48     54                  37  \n",
      "7       223       131         81     78                 339  \n",
      "8        30        15         11      6                  37  \n",
      "9        95        69         87    151                 162  \n",
      "10     1107       939        753    634                1328  \n",
      "11      112        85         49     42                  69  \n",
      "12       23        16          8      6                  22  \n",
      "13       47        38         42     46                  73  \n",
      "14       14        18         14     12                  18  \n",
      "15       63        46         40     41                  71  \n",
      "16        7         3          4      4                   8  \n",
      "17      528       407        321    258                 597  \n"
     ]
    }
   ],
   "source": [
    "import pandas as pd\n",
    "pew = pd.read_csv('./data/pew.csv')\n",
    "\n",
    "print(pew)"
   ]
  },
  {
   "cell_type": "code",
   "execution_count": 4,
   "id": "0a8bd7f1-da0b-43b6-bea7-234d64716b62",
   "metadata": {},
   "outputs": [
    {
     "name": "stdout",
     "output_type": "stream",
     "text": [
      "             religion  <$10k  $10-20k  $20-30k  $30-40k  $40-50k  $50-75k  \\\n",
      "0            Agnostic     27       34       60       81       76      137   \n",
      "1             Atheist     12       27       37       52       35       70   \n",
      "2            Buddhist     27       21       30       34       33       58   \n",
      "3            Catholic    418      617      732      670      638     1116   \n",
      "4  Don’t know/refused     15       14       15       11       10       35   \n",
      "\n",
      "   $75-100k  $100-150k  >150k  Don't know/refused  \n",
      "0       122        109     84                  96  \n",
      "1        73         59     74                  76  \n",
      "2        62         39     53                  54  \n",
      "3       949        792    633                1489  \n",
      "4        21         17     18                 116  \n"
     ]
    }
   ],
   "source": [
    "print(pew.head())"
   ]
  },
  {
   "cell_type": "code",
   "execution_count": 7,
   "id": "c606876e-9e5f-429e-b0af-1daa25121c61",
   "metadata": {},
   "outputs": [
    {
     "name": "stdout",
     "output_type": "stream",
     "text": [
      "                   religion  <$10k  $10-20k  $20-30k  $30-40k  $40-50k\n",
      "0                  Agnostic     27       34       60       81       76\n",
      "1                   Atheist     12       27       37       52       35\n",
      "2                  Buddhist     27       21       30       34       33\n",
      "3                  Catholic    418      617      732      670      638\n",
      "4        Don’t know/refused     15       14       15       11       10\n",
      "5          Evangelical Prot    575      869     1064      982      881\n",
      "6                     Hindu      1        9        7        9       11\n",
      "7   Historically Black Prot    228      244      236      238      197\n",
      "8         Jehovah's Witness     20       27       24       24       21\n",
      "9                    Jewish     19       19       25       25       30\n",
      "10            Mainline Prot    289      495      619      655      651\n",
      "11                   Mormon     29       40       48       51       56\n",
      "12                   Muslim      6        7        9       10        9\n",
      "13                 Orthodox     13       17       23       32       32\n",
      "14          Other Christian      9        7       11       13       13\n",
      "15             Other Faiths     20       33       40       46       49\n",
      "16    Other World Religions      5        2        3        4        2\n",
      "17             Unaffiliated    217      299      374      365      341\n"
     ]
    }
   ],
   "source": [
    "print(pew.iloc[:, 0:6])"
   ]
  },
  {
   "cell_type": "code",
   "execution_count": 8,
   "id": "d6bb07f3-76b8-4275-9aa7-8532bc1bd673",
   "metadata": {},
   "outputs": [],
   "source": [
    "pew_long = pd.melt(pew, id_vars = 'religion')"
   ]
  },
  {
   "cell_type": "code",
   "execution_count": 10,
   "id": "798d3633-29a2-4705-8d46-f14d57c4ad0c",
   "metadata": {},
   "outputs": [
    {
     "name": "stdout",
     "output_type": "stream",
     "text": [
      "             religion variable  value\n",
      "0            Agnostic    <$10k     27\n",
      "1             Atheist    <$10k     12\n",
      "2            Buddhist    <$10k     27\n",
      "3            Catholic    <$10k    418\n",
      "4  Don’t know/refused    <$10k     15\n"
     ]
    }
   ],
   "source": [
    "print(pew_long.head())"
   ]
  },
  {
   "cell_type": "markdown",
   "id": "8ebe522e-7e35-482a-8ec6-1fd8d49a11bb",
   "metadata": {},
   "source": [
    "## id_vars \n",
    "= 위치를 그대로 유지할 열의 이름을 지정<p></p>\n",
    "## value_vars \n",
    "= 행으로 위치를 변경할 열의 이름을 지정합니다. <p></p>\n",
    "## var_name \n",
    "= value_vars로 위치를 변경한 열의 이름을 지정<p></p>\n",
    "## value_name \n",
    "= var_name으로 위치를 변경한 열의 데이터를 저장한 열의 이름을 지정합니다. "
   ]
  },
  {
   "cell_type": "code",
   "execution_count": 11,
   "id": "d062f4da-8cc4-494f-9312-97d973d23ff5",
   "metadata": {},
   "outputs": [
    {
     "name": "stdout",
     "output_type": "stream",
     "text": [
      "             religion income  count\n",
      "0            Agnostic  <$10k     27\n",
      "1             Atheist  <$10k     12\n",
      "2            Buddhist  <$10k     27\n",
      "3            Catholic  <$10k    418\n",
      "4  Don’t know/refused  <$10k     15\n"
     ]
    }
   ],
   "source": [
    "pew_long = pd.melt(pew, id_vars='religion', var_name='income', value_name='count')\n",
    "print(pew_long.head())"
   ]
  },
  {
   "cell_type": "markdown",
   "id": "c6ba41d2-4a39-40a8-9927-d2e82d35475b",
   "metadata": {},
   "source": [
    "## 2개 이상의 열을 고정하고 나머지 열을 행으로 바꾸기 "
   ]
  },
  {
   "cell_type": "code",
   "execution_count": 12,
   "id": "91229e43-786f-4d48-8cac-fc55a06a9d55",
   "metadata": {},
   "outputs": [],
   "source": [
    "billboard = pd.read_csv('./data/billboard.csv')"
   ]
  },
  {
   "cell_type": "code",
   "execution_count": 13,
   "id": "93f93411-5f32-4959-ae2e-fd7d62b4c3bb",
   "metadata": {},
   "outputs": [
    {
     "name": "stdout",
     "output_type": "stream",
     "text": [
      "   year        artist                    track  time date.entered  wk1   wk2  \\\n",
      "0  2000         2 Pac  Baby Don't Cry (Keep...  4:22   2000-02-26   87  82.0   \n",
      "1  2000       2Ge+her  The Hardest Part Of ...  3:15   2000-09-02   91  87.0   \n",
      "2  2000  3 Doors Down               Kryptonite  3:53   2000-04-08   81  70.0   \n",
      "3  2000  3 Doors Down                    Loser  4:24   2000-10-21   76  76.0   \n",
      "4  2000      504 Boyz            Wobble Wobble  3:35   2000-04-15   57  34.0   \n",
      "\n",
      "    wk3   wk4   wk5   wk6   wk7   wk8   wk9  wk10  wk11  \n",
      "0  72.0  77.0  87.0  94.0  99.0   NaN   NaN   NaN   NaN  \n",
      "1  92.0   NaN   NaN   NaN   NaN   NaN   NaN   NaN   NaN  \n",
      "2  68.0  67.0  66.0  57.0  54.0  53.0  51.0  51.0  51.0  \n",
      "3  72.0  69.0  67.0  65.0  55.0  59.0  62.0  61.0  61.0  \n",
      "4  25.0  17.0  17.0  31.0  36.0  49.0  53.0  57.0  64.0  \n"
     ]
    }
   ],
   "source": [
    "print(billboard.iloc[0:5, 0:16])"
   ]
  },
  {
   "cell_type": "code",
   "execution_count": 14,
   "id": "8cc02c5a-d0f2-4be7-afcd-b4d717a68b00",
   "metadata": {},
   "outputs": [
    {
     "name": "stdout",
     "output_type": "stream",
     "text": [
      "   year        artist                    track  time date.entered week  rating\n",
      "0  2000         2 Pac  Baby Don't Cry (Keep...  4:22   2000-02-26  wk1    87.0\n",
      "1  2000       2Ge+her  The Hardest Part Of ...  3:15   2000-09-02  wk1    91.0\n",
      "2  2000  3 Doors Down               Kryptonite  3:53   2000-04-08  wk1    81.0\n",
      "3  2000  3 Doors Down                    Loser  4:24   2000-10-21  wk1    76.0\n",
      "4  2000      504 Boyz            Wobble Wobble  3:35   2000-04-15  wk1    57.0\n"
     ]
    }
   ],
   "source": [
    "billboard_long = pd.melt(billboard, id_vars=['year', 'artist', 'track', 'time', 'date.entered'], var_name='week', value_name='rating')\n",
    "\n",
    "print(billboard_long.head())"
   ]
  },
  {
   "cell_type": "code",
   "execution_count": null,
   "id": "b318393f-3bf0-4b88-8c0f-ef1ceee6f8db",
   "metadata": {},
   "outputs": [],
   "source": []
  }
 ],
 "metadata": {
  "kernelspec": {
   "display_name": "Python 3 (ipykernel)",
   "language": "python",
   "name": "python3"
  },
  "language_info": {
   "codemirror_mode": {
    "name": "ipython",
    "version": 3
   },
   "file_extension": ".py",
   "mimetype": "text/x-python",
   "name": "python",
   "nbconvert_exporter": "python",
   "pygments_lexer": "ipython3",
   "version": "3.10.9"
  }
 },
 "nbformat": 4,
 "nbformat_minor": 5
}
