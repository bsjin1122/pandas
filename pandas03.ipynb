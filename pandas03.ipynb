{
 "cells": [
  {
   "cell_type": "code",
   "execution_count": 6,
   "id": "f4070825-47fb-42a1-a629-1d2913b80ca0",
   "metadata": {},
   "outputs": [],
   "source": [
    "import pandas as pd\n",
    "\n",
    "scientists = pd.read_csv('./data/scientists.csv')"
   ]
  },
  {
   "cell_type": "code",
   "execution_count": 8,
   "id": "804df182-9ce0-44ad-be35-6058912d690b",
   "metadata": {},
   "outputs": [
    {
     "name": "stdout",
     "output_type": "stream",
     "text": [
      "0       Rosaline Franklin\n",
      "1          William Gosset\n",
      "2    Florence Nightingale\n",
      "3             Marie Curie\n",
      "4           Rachel Carson\n",
      "5               John Snow\n",
      "6             Alan Turing\n",
      "7            Johann Gauss\n",
      "Name: Name, dtype: object\n"
     ]
    }
   ],
   "source": [
    "names = scientists['Name']\n",
    "print(names)"
   ]
  },
  {
   "cell_type": "code",
   "execution_count": 9,
   "id": "36535b9d-7e12-4449-8fab-0d1776835c50",
   "metadata": {},
   "outputs": [],
   "source": [
    "names.to_pickle('./scientists_names_series.pickle')"
   ]
  },
  {
   "cell_type": "code",
   "execution_count": 12,
   "id": "4c42f7d3-86d4-4a7d-baf2-ae563e3d6a91",
   "metadata": {},
   "outputs": [],
   "source": [
    "scientists.to_pickle('./scientists_df.pickle')"
   ]
  },
  {
   "cell_type": "code",
   "execution_count": 10,
   "id": "390d13ae-b484-4ed9-ad0c-370f39169d03",
   "metadata": {},
   "outputs": [],
   "source": [
    "scientist_names_from_pickle = pd.read_pickle('./output/scientists_names_series.pickle')"
   ]
  },
  {
   "cell_type": "code",
   "execution_count": 11,
   "id": "9f1f1269-6aa1-4d7b-b988-ca2d200a976b",
   "metadata": {},
   "outputs": [
    {
     "name": "stdout",
     "output_type": "stream",
     "text": [
      "0       Rosaline Franklin\n",
      "1          William Gosset\n",
      "2    Florence Nightingale\n",
      "3             Marie Curie\n",
      "4           Rachel Carson\n",
      "5               John Snow\n",
      "6             Alan Turing\n",
      "7            Johann Gauss\n",
      "Name: Name, dtype: object\n"
     ]
    }
   ],
   "source": [
    "print(scientist_names_from_pickle)"
   ]
  },
  {
   "cell_type": "code",
   "execution_count": 13,
   "id": "4912cfb9-62d5-4f4c-81aa-379c71c0c06e",
   "metadata": {},
   "outputs": [],
   "source": [
    "names.to_csv('./scientist_names_series.csv')"
   ]
  },
  {
   "cell_type": "code",
   "execution_count": 15,
   "id": "68c79aca-f3fd-409c-8c70-5a54e3c22d44",
   "metadata": {},
   "outputs": [],
   "source": [
    "scientists.to_csv('./scientist_df.tsv', sep='\\t')"
   ]
  },
  {
   "cell_type": "code",
   "execution_count": null,
   "id": "a346036d-13ca-4226-a75a-3031d7b56aed",
   "metadata": {},
   "outputs": [],
   "source": []
  }
 ],
 "metadata": {
  "kernelspec": {
   "display_name": "Python 3 (ipykernel)",
   "language": "python",
   "name": "python3"
  },
  "language_info": {
   "codemirror_mode": {
    "name": "ipython",
    "version": 3
   },
   "file_extension": ".py",
   "mimetype": "text/x-python",
   "name": "python",
   "nbconvert_exporter": "python",
   "pygments_lexer": "ipython3",
   "version": "3.10.9"
  }
 },
 "nbformat": 4,
 "nbformat_minor": 5
}
